{
 "cells": [
  {
   "cell_type": "markdown",
   "source": [
    "## JEIBA/CKIP >> W2V Model >> BiLSTM"
   ],
   "metadata": {}
  },
  {
   "cell_type": "code",
   "execution_count": 1,
   "source": [
    "import keras\n",
    "from keras.models import Model\n",
    "from keras.callbacks import ModelCheckpoint, EarlyStopping\n",
    "from keras.models import Sequential\n",
    "from keras.layers import Input, LSTM, Dense, Flatten, Bidirectional, add, Concatenate, concatenate, Activation\n",
    "from keras.layers import Embedding"
   ],
   "outputs": [
    {
     "output_type": "stream",
     "name": "stdout",
     "text": [
      "Init Plugin\n",
      "Init Graph Optimizer\n",
      "Init Kernel\n"
     ]
    }
   ],
   "metadata": {}
  },
  {
   "cell_type": "code",
   "execution_count": 3,
   "source": [
    "import os\n",
    "import re\n",
    "import string\n",
    "import numpy as np\n",
    "import pandas as pd\n",
    "from numpy import random\n",
    "import gensim\n",
    "from gensim.models import Word2Vec\n",
    "from gensim.models import word2vec\n",
    "from sklearn.model_selection import train_test_split\n",
    "from tqdm import tqdm_notebook as tqdm\n",
    "import matplotlib.pyplot as plt\n",
    "import datetime\n",
    "time = datetime.date.today()"
   ],
   "outputs": [],
   "metadata": {}
  },
  {
   "cell_type": "code",
   "execution_count": 4,
   "source": [
    "import tensorflow as tf"
   ],
   "outputs": [],
   "metadata": {}
  },
  {
   "cell_type": "code",
   "execution_count": null,
   "source": [
    "site = ''\n",
    "out_site = ''\n",
    "file_site = ''\n",
    "df = pd.read_csv(file_site)\n",
    "df = df[['prd_name', 'token_name', 'label', 'token_desc']]\n",
    "df.columns = ['prd_name', 'token_name', 'label', 'token_desc']\n",
    "df.token_name = df.token_name.apply(str)\n",
    "df.token_desc = df.token_desc.apply(str)\n",
    "df.label = df.label.apply(str)\n",
    "print(df.shape)\n",
    "df.head()"
   ],
   "outputs": [],
   "metadata": {}
  }
 ],
 "metadata": {
  "orig_nbformat": 4,
  "language_info": {
   "name": "python",
   "version": "3.9.6",
   "mimetype": "text/x-python",
   "codemirror_mode": {
    "name": "ipython",
    "version": 3
   },
   "pygments_lexer": "ipython3",
   "nbconvert_exporter": "python",
   "file_extension": ".py"
  },
  "kernelspec": {
   "name": "python3",
   "display_name": "Python 3.9.6 64-bit ('tensorflow': conda)"
  },
  "interpreter": {
   "hash": "0729e0afaf4d65e2a91a3bdab3b4bf083879cf81e41f52fbed812722fa13cb93"
  }
 },
 "nbformat": 4,
 "nbformat_minor": 2
}